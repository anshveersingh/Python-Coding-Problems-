{
 "cells": [
  {
   "cell_type": "markdown",
   "metadata": {},
   "source": [
    "# 04 - Am I Obidient"
   ]
  },
  {
   "cell_type": "markdown",
   "metadata": {},
   "source": [
    "This is an very easy puzzle. Given a number, display \"You are obidient\" on the screen if the user inputted a number less than 10. Else if, it is between 10 and 20, print on the screen \"You can be obidient\", else print \"You are not obidient.\""
   ]
  },
  {
   "cell_type": "code",
   "execution_count": 1,
   "metadata": {},
   "outputs": [
    {
     "name": "stdout",
     "output_type": "stream",
     "text": [
      "Enter a number: 5\n",
      "You are obidient\n"
     ]
    }
   ],
   "source": [
    "# The result (1)"
   ]
  },
  {
   "cell_type": "code",
   "execution_count": 2,
   "metadata": {},
   "outputs": [
    {
     "name": "stdout",
     "output_type": "stream",
     "text": [
      "Enter a number: 12\n",
      "You can be obidient\n"
     ]
    }
   ],
   "source": [
    "# The result (2)"
   ]
  },
  {
   "cell_type": "code",
   "execution_count": 3,
   "metadata": {},
   "outputs": [
    {
     "name": "stdout",
     "output_type": "stream",
     "text": [
      "Enter a number: 25\n",
      "You are not obidient\n"
     ]
    }
   ],
   "source": [
    "# The result (3)"
   ]
  },
  {
   "cell_type": "markdown",
   "metadata": {},
   "source": [
    "# Hint"
   ]
  },
  {
   "cell_type": "markdown",
   "metadata": {},
   "source": [
    "The 'and' operator returns True if both the conditions are true. Elif is short form for 'else if' in Python."
   ]
  },
  {
   "cell_type": "markdown",
   "metadata": {},
   "source": [
    "# Solution"
   ]
  },
  {
   "cell_type": "code",
   "execution_count": 4,
   "metadata": {},
   "outputs": [
    {
     "name": "stdout",
     "output_type": "stream",
     "text": [
      "Enter a number: 7\n",
      "You are obidient\n"
     ]
    }
   ],
   "source": [
    "# The solution\n",
    "\n",
    "a = int(input(\"Enter a number: \"))\n",
    "\n",
    "if a < 10:\n",
    "    print(\"You are obidient\")\n",
    "elif a > 10 and a < 20:\n",
    "    print(\"You can be obidient\")\n",
    "else:\n",
    "    print(\"You are not obidient\")"
   ]
  },
  {
   "cell_type": "markdown",
   "metadata": {},
   "source": [
    "So, this was all. There are more practice sites - \n",
    "\n",
    "1. https://www.reddit.com/r/dailyprogrammer\n",
    "2. http://www.codeabbey.com/index/task_list\n",
    "3. http://codingbat.com/python\n",
    "4. http://codingbat.com/python\n",
    "5. https://projecteuler.net/archives\n",
    "\n",
    "By @anshveersingh"
   ]
  }
 ],
 "metadata": {
  "kernelspec": {
   "display_name": "Python 3",
   "language": "python",
   "name": "python3"
  },
  "language_info": {
   "codemirror_mode": {
    "name": "ipython",
    "version": 3
   },
   "file_extension": ".py",
   "mimetype": "text/x-python",
   "name": "python",
   "nbconvert_exporter": "python",
   "pygments_lexer": "ipython3",
   "version": "3.7.6"
  }
 },
 "nbformat": 4,
 "nbformat_minor": 4
}
