{
 "cells": [
  {
   "cell_type": "markdown",
   "metadata": {},
   "source": [
    "# 05 - Store mah family member names"
   ]
  },
  {
   "cell_type": "markdown",
   "metadata": {},
   "source": [
    "This is hard (not much) than you think. You have to store it in only one variable, not others."
   ]
  },
  {
   "cell_type": "code",
   "execution_count": 2,
   "metadata": {},
   "outputs": [
    {
     "name": "stdout",
     "output_type": "stream",
     "text": [
      "Enter a name, or [ENTER] or [RETURN] to continue: Python\n",
      "Enter a name, or [ENTER] or [RETURN] to continue: Java\n",
      "Enter a name, or [ENTER] or [RETURN] to continue: C\n",
      "Enter a name, or [ENTER] or [RETURN] to continue: C++\n",
      "Enter a name, or [ENTER] or [RETURN] to continue: JavaScript\n",
      "Enter a name, or [ENTER] or [RETURN] to continue: C#\n",
      "Enter a name, or [ENTER] or [RETURN] to continue: SQL\n",
      "Enter a name, or [ENTER] or [RETURN] to continue: HTML\n",
      "Enter a name, or [ENTER] or [RETURN] to continue: CSS\n",
      "Enter a name, or [ENTER] or [RETURN] to continue: PHP\n",
      "Enter a name, or [ENTER] or [RETURN] to continue: WordPress\n",
      "Enter a name, or [ENTER] or [RETURN] to continue: FOTRAN\n",
      "Enter a name, or [ENTER] or [RETURN] to continue: COBOL\n",
      "Enter a name, or [ENTER] or [RETURN] to continue: APL\n",
      "Enter a name, or [ENTER] or [RETURN] to continue: Objective C\n",
      "Enter a name, or [ENTER] or [RETURN] to continue: Golang\n",
      "Enter a name, or [ENTER] or [RETURN] to continue: R\n",
      "Enter a name, or [ENTER] or [RETURN] to continue: Glueviz\n",
      "Enter a name, or [ENTER] or [RETURN] to continue: \n",
      "The family members are: \n",
      "Python\n",
      "Java\n",
      "C\n",
      "C++\n",
      "JavaScript\n",
      "C#\n",
      "SQL\n",
      "HTML\n",
      "CSS\n",
      "PHP\n",
      "WordPress\n",
      "FOTRAN\n",
      "COBOL\n",
      "APL\n",
      "Objective C\n",
      "Golang\n",
      "R\n",
      "Glueviz\n"
     ]
    }
   ],
   "source": [
    "# The result (1)"
   ]
  },
  {
   "cell_type": "code",
   "execution_count": 3,
   "metadata": {},
   "outputs": [
    {
     "name": "stdout",
     "output_type": "stream",
     "text": [
      "Enter a name, or [ENTER] or [RETURN] to continue: \n",
      "There is no length of the family names.\n"
     ]
    }
   ],
   "source": [
    "# The result (2)"
   ]
  },
  {
   "cell_type": "markdown",
   "metadata": {},
   "source": [
    "# Hint"
   ]
  },
  {
   "cell_type": "markdown",
   "metadata": {},
   "source": [
    "Use while loops, for loops, lists, etc. to do this."
   ]
  },
  {
   "cell_type": "markdown",
   "metadata": {},
   "source": [
    "# Solution"
   ]
  },
  {
   "cell_type": "code",
   "execution_count": 5,
   "metadata": {},
   "outputs": [
    {
     "name": "stdout",
     "output_type": "stream",
     "text": [
      "Enter a name, or [ENTER] or [RETURN] to continue: Hi\n",
      "Enter a name, or [ENTER] or [RETURN] to continue: Enjoyed this?\n",
      "Enter a name, or [ENTER] or [RETURN] to continue: Thankiu\n",
      "Enter a name, or [ENTER] or [RETURN] to continue: \n",
      "The family members are: \n",
      "Hi\n",
      "Enjoyed this?\n",
      "Thankiu\n"
     ]
    }
   ],
   "source": [
    "# This is the list of family members\n",
    "family_members = []\n",
    "\n",
    "# Inputs the first member\n",
    "answer = input(\"Enter a name, or [ENTER] or [RETURN] to continue: \")\n",
    "\n",
    "while answer != \"\":  # [Enter] or [Return] is stored as an empty string\n",
    "    # Adds the family member to the list 'family_members'\n",
    "    family_members.append(answer)\n",
    "    \n",
    "    # Inputs another family member\n",
    "    answer = input(\"Enter a name, or [ENTER] or [RETURN] to continue: \")\n",
    "\n",
    "# If no family member is there\n",
    "if len(family_members) == 0:\n",
    "    print(\"There is no length of the family names.\")\n",
    "else:\n",
    "    # Prints all the family members\n",
    "    print(\"The family members are: \")\n",
    "    for x in family_members:\n",
    "        print(x)"
   ]
  },
  {
   "cell_type": "markdown",
   "metadata": {},
   "source": [
    "So, this was all. There are more practice sites - \n",
    "\n",
    "1. https://www.reddit.com/r/dailyprogrammer\n",
    "2. http://www.codeabbey.com/index/task_list\n",
    "3. http://codingbat.com/python\n",
    "4. http://codingbat.com/python\n",
    "5. https://projecteuler.net/archives\n",
    "\n",
    "By @anshveersingh"
   ]
  }
 ],
 "metadata": {
  "kernelspec": {
   "display_name": "Python 3",
   "language": "python",
   "name": "python3"
  },
  "language_info": {
   "codemirror_mode": {
    "name": "ipython",
    "version": 3
   },
   "file_extension": ".py",
   "mimetype": "text/x-python",
   "name": "python",
   "nbconvert_exporter": "python",
   "pygments_lexer": "ipython3",
   "version": "3.7.6"
  }
 },
 "nbformat": 4,
 "nbformat_minor": 4
}
