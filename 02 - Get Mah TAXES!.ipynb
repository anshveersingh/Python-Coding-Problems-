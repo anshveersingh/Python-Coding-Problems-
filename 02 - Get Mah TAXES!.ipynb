{
 "cells": [
  {
   "cell_type": "markdown",
   "metadata": {},
   "source": [
    "# 02 - Get Mah TAXES!"
   ]
  },
  {
   "cell_type": "markdown",
   "metadata": {},
   "source": [
    "Given a tax rate and the income, input both of them and calculate the taxes payed. but, tax rate is a percentage because the user has difficulty in understanding tax rate is 0.08 rather than 80%. The income can be a float. So now, it is in your hands what to do."
   ]
  },
  {
   "cell_type": "code",
   "execution_count": 1,
   "metadata": {},
   "outputs": [
    {
     "name": "stdout",
     "output_type": "stream",
     "text": [
      "Enter the income: 100\n",
      "Enter the tax rate percentage: 8\n",
      "The taxes payed are: 8.0\n"
     ]
    }
   ],
   "source": [
    "# The result"
   ]
  },
  {
   "cell_type": "markdown",
   "metadata": {},
   "source": [
    "# Hint"
   ]
  },
  {
   "cell_type": "markdown",
   "metadata": {},
   "source": [
    "You can use any other variable instead of the two. You are allowed to use a third variable. The real tax rate in decimal is tax rate in percentage divided by 100, and so, the decimal point moves two places to the left. (I know it's very tough)"
   ]
  },
  {
   "cell_type": "markdown",
   "metadata": {},
   "source": [
    "# Solution"
   ]
  },
  {
   "cell_type": "markdown",
   "metadata": {},
   "source": [
    "So first, you need to get the tax rate and the income."
   ]
  },
  {
   "cell_type": "code",
   "execution_count": 2,
   "metadata": {},
   "outputs": [
    {
     "name": "stdout",
     "output_type": "stream",
     "text": [
      "Enter the income: 100\n",
      "Enter the tax rate percentage: 8\n"
     ]
    }
   ],
   "source": [
    "income = float(input(\"Enter the income: \"))\n",
    "tax_rate = float(input(\"Enter the tax rate percentage: \"))"
   ]
  },
  {
   "cell_type": "markdown",
   "metadata": {},
   "source": [
    "Then, convert the tax rate into a decimal."
   ]
  },
  {
   "cell_type": "code",
   "execution_count": 3,
   "metadata": {},
   "outputs": [],
   "source": [
    "tax_rate = tax_rate / 100"
   ]
  },
  {
   "cell_type": "markdown",
   "metadata": {},
   "source": [
    "And finally,"
   ]
  },
  {
   "cell_type": "code",
   "execution_count": 4,
   "metadata": {},
   "outputs": [
    {
     "name": "stdout",
     "output_type": "stream",
     "text": [
      "The taxes payed are: 8.0\n"
     ]
    }
   ],
   "source": [
    "print(f\"The taxes payed are: {tax_rate * income}\")"
   ]
  },
  {
   "cell_type": "markdown",
   "metadata": {},
   "source": [
    "So, this was all. There are more practice sites - \n",
    "\n",
    "1. https://www.reddit.com/r/dailyprogrammer\n",
    "2. http://www.codeabbey.com/index/task_list\n",
    "3. http://codingbat.com/python\n",
    "4. http://codingbat.com/python\n",
    "5. https://projecteuler.net/archives\n",
    "\n",
    "By @anshveersingh"
   ]
  }
 ],
 "metadata": {
  "kernelspec": {
   "display_name": "Python 3",
   "language": "python",
   "name": "python3"
  },
  "language_info": {
   "codemirror_mode": {
    "name": "ipython",
    "version": 3
   },
   "file_extension": ".py",
   "mimetype": "text/x-python",
   "name": "python",
   "nbconvert_exporter": "python",
   "pygments_lexer": "ipython3",
   "version": "3.7.6"
  }
 },
 "nbformat": 4,
 "nbformat_minor": 4
}
